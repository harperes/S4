{
 "cells": [
  {
   "cell_type": "markdown",
   "metadata": {},
   "source": [
    "This will be a very simple, straightforward tutorial to S4 (see the Tutorial in our S4 documentation)"
   ]
  },
  {
   "cell_type": "markdown",
   "metadata": {},
   "source": [
    "# 0. Imports"
   ]
  },
  {
   "cell_type": "code",
   "execution_count": 1,
   "metadata": {},
   "outputs": [],
   "source": [
    "# import S4 (S4 must be installed)\n",
    "import S4"
   ]
  },
  {
   "cell_type": "markdown",
   "metadata": {},
   "source": [
    "# 1. Create a simulation object\n",
    "\n",
    "In order to simulate using S4 (or really *do* anything in S4), you first need to create a simulation object:"
   ]
  },
  {
   "cell_type": "code",
   "execution_count": 2,
   "metadata": {},
   "outputs": [],
   "source": [
    "S = S4.Simulation()\n",
    "S.create_new()"
   ]
  },
  {
   "cell_type": "markdown",
   "metadata": {},
   "source": [
    "we now have an S4 Simulation object in `S` with a new simulation instance that we created with `create_new()`.\n",
    "\n",
    "# 2. Create the simulation geometry\n",
    "\n",
    "We are simulating a geometric object that is periodic in $x, y$ with a finite number of distinct layers in $z$. Thus, we must define this geometry:"
   ]
  },
  {
   "cell_type": "code",
   "execution_count": 3,
   "metadata": {},
   "outputs": [],
   "source": [
    "a_x = 0.75\n",
    "a_y = 0.0\n",
    "\n",
    "b_x = 0.0\n",
    "b_y = 0.75\n",
    "S.set_lattice([[a_x, a_y],\n",
    "               [b_x, b_y]])"
   ]
  },
  {
   "cell_type": "markdown",
   "metadata": {},
   "source": [
    "This creates a square lattice with a lattice vector of length $L=0.75$ scaled units.\n",
    "\n",
    "Let's now define the number of basis functions we will use (*Note: the number required to accurately approximate the optical behavior will be system dependent and will require a sensitivity study*)"
   ]
  },
  {
   "cell_type": "code",
   "execution_count": 4,
   "metadata": {},
   "outputs": [],
   "source": [
    "# use 100 basis functions\n",
    "S.set_num_g(100)"
   ]
  },
  {
   "cell_type": "markdown",
   "metadata": {},
   "source": [
    "# 3. Now define the materials in the simulation\n",
    "\n",
    "We are simulating a physical object composed of real materials, so we need to add these materials to the simulation (*Note: if you have materials with appreciable dispersion, you must change the dielectric constant if/when you change the frequency*)"
   ]
  },
  {
   "cell_type": "code",
   "execution_count": 5,
   "metadata": {},
   "outputs": [],
   "source": [
    "S.add_material(\"Vacuum\", [1.0, 0.0])\n",
    "S.add_material(\"Silicon\", [12.0, 0.01])"
   ]
  },
  {
   "cell_type": "markdown",
   "metadata": {},
   "source": [
    "We have added a material (technically the lack thereof) `Vacuum` with a dielectric onstant of $1$ and a material `Silicon` with a dielectric constant of $12 + 0.01i$\n",
    "\n",
    "# 4. Create the layers of the object\n",
    "\n",
    "We will now create the layers in the object we will simulate. In this example, we have a single slab; however, this slab is technically requires 3 layers to be accurately simulated because we must include the environment above and below the slab:"
   ]
  },
  {
   "cell_type": "code",
   "execution_count": 6,
   "metadata": {},
   "outputs": [],
   "source": [
    "S.add_layer(\"top\", 0.0, \"Vacuum\")\n",
    "S.add_layer(\"slab\", 0.5, \"Silicon\")\n",
    "S.add_layer(\"bottom\", 0.0, \"Vacuum\")"
   ]
  },
  {
   "cell_type": "markdown",
   "metadata": {},
   "source": [
    "We added a semi-infinite `Vacuum` layer (we set the thickness to $0$ because it is largely irrelevant to this simulation), a middle slab layer made of silicon with a thickness of $0.5$, and a bottom semi=infinite `Vacuum` layer."
   ]
  },
  {
   "cell_type": "markdown",
   "metadata": {},
   "source": [
    "# 5. Add patterning to layers\n",
    "\n",
    "RCWA can be used to simulate homogenous layers, but is effectively overkill. We will actually simulate an object that requires RCWA, so we need to add a pattern to the slab layer:"
   ]
  },
  {
   "cell_type": "code",
   "execution_count": 7,
   "metadata": {},
   "outputs": [],
   "source": [
    "S.set_layer_pattern_circle(\"slab\",        # Layer to pattern\n",
    "                           \"Vacuum\",      # Material inside circle\n",
    "                           [0.0, 0.0],    # center of pattern\n",
    "                           0.2)           # radius of circle"
   ]
  },
  {
   "cell_type": "markdown",
   "metadata": {},
   "source": [
    "This creates a cylinder of radius $r = 0.2$ in the middle layer\n",
    "\n",
    "# 6. Set the incident light properties\n",
    "\n",
    "We now need to set the properties of the incident light"
   ]
  },
  {
   "cell_type": "code",
   "execution_count": 8,
   "metadata": {},
   "outputs": [],
   "source": [
    "S.set_excitation_planewave([0.0, 0.0],    # phi, theta\n",
    "                           [1.0, 0.0],    # s-polarization (amp, phase)\n",
    "                           [0.0, 0.0])    # p-polarization (amp, phase)\n",
    "S.set_frequency(0.4)                      # 1 / wavelength"
   ]
  },
  {
   "cell_type": "markdown",
   "metadata": {},
   "source": [
    "(I skip the # 7 currently in the documentation)\n",
    "\n",
    "# 8. Obtain the desired output\n",
    "\n",
    "Let's run the simulation and get the transmission through the metamaterial"
   ]
  },
  {
   "cell_type": "code",
   "execution_count": 11,
   "metadata": {},
   "outputs": [
    {
     "name": "stdout",
     "output_type": "stream",
     "text": [
      "[ 1.00000000e+00 -4.52860161e-01 -2.77555756e-17  2.77555756e-17]\n",
      "[0.54347845 0.         0.         0.        ]\n",
      "0.9963386107450254\n"
     ]
    }
   ],
   "source": [
    "reflection = S.get_poynting_flux(\"top\")\n",
    "\n",
    "print(reflection)\n",
    "\n",
    "transmission = S.get_poynting_flux(\"bottom\")\n",
    "\n",
    "print(transmission)\n",
    "\n",
    "print(transmission[0] - reflection[1])"
   ]
  },
  {
   "cell_type": "markdown",
   "metadata": {},
   "source": [
    "The output of `S.get_poynting_flux` will be:\n",
    "\n",
    "|   | forward real | backward_real | forward_imaginary | backward_imaginary|\n",
    "| - | ------------ | ------------- | ----------------- | ----------------- |\n",
    "| reflection | 1.0   | -0.453           | 0.0               | 0.0               |\n",
    "| transmission | 0.543   | 0.0           | 0.0               | 0.0               |\n",
    "\n",
    "(you can ignore `-2.77555756e-17` or similar values)\n",
    "\n",
    "This means that:\n",
    "\n",
    "* incident light with a total power of $1$ is input to the system\n",
    "* light with a power of $0.453$ is reflected (that's what the \"-\" in $-0.452$ *means*)\n",
    "* the remainder of the light is transmitted: $0.543 + 0.453 \\approx 1$"
   ]
  },
  {
   "cell_type": "code",
   "execution_count": null,
   "metadata": {},
   "outputs": [],
   "source": []
  }
 ],
 "metadata": {
  "@webio": {
   "lastCommId": null,
   "lastKernelId": null
  },
  "kernelspec": {
   "display_name": "Python 3",
   "language": "python",
   "name": "python3"
  },
  "language_info": {
   "codemirror_mode": {
    "name": "ipython",
    "version": 3
   },
   "file_extension": ".py",
   "mimetype": "text/x-python",
   "name": "python",
   "nbconvert_exporter": "python",
   "pygments_lexer": "ipython3",
   "version": "3.7.6"
  }
 },
 "nbformat": 4,
 "nbformat_minor": 2
}
